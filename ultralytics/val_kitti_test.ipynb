{
 "cells": [
  {
   "cell_type": "code",
   "execution_count": 6,
   "metadata": {},
   "outputs": [
    {
     "name": "stdout",
     "output_type": "stream",
     "text": [
      "Use GPU: True\n",
      "GPU cache cleared.\n",
      "\n",
      "class YOLO: current loaded model is: /home/heizung1/ultralytics_yolov8-obb_ob_kitti/ultralytics/kitti_bev_yolo/avoid_overfitting_best/weights/fp32_batch=16/best.engine\n",
      "class YOLO: current task is: obb\n",
      "Ultralytics 8.3.55 🚀 Python-3.12.8 torch-2.5.1+cu121 CUDA:0 (NVIDIA GeForce RTX 3080, 9898MiB)\n",
      "Loading /home/heizung1/ultralytics_yolov8-obb_ob_kitti/ultralytics/kitti_bev_yolo/avoid_overfitting_best/weights/fp32_batch=16/best.engine for TensorRT inference...\n",
      "[06/15/2025-17:36:16] [TRT] [I] The logger passed into createInferRuntime differs from one already provided for an existing builder, runtime, or refitter. Uses of the global logger, returned by nvinfer1::getLogger(), will return the existing value.\n",
      "[06/15/2025-17:36:16] [TRT] [I] Loaded engine size: 49 MiB\n",
      "[06/15/2025-17:36:16] [TRT] [I] [MemUsageChange] TensorRT-managed allocation in IExecutionContext creation: CPU +0, GPU +581, now: CPU 1, GPU 1877 (MiB)\n"
     ]
    },
    {
     "name": "stderr",
     "output_type": "stream",
     "text": [
      "\u001b[34m\u001b[1mval: \u001b[0mScanning /home/heizung1/ultralytics_yolov8-obb_ob_kitti/ultralytics/cfg/datasets/kitti/labels/val.cache... 3699 images, 0 backgrounds, 0 corrupt: 100%|██████████| 3699/3699 [00:00<?, ?it/s]\n"
     ]
    },
    {
     "name": "stdout",
     "output_type": "stream",
     "text": [
      "before custom table\n"
     ]
    },
    {
     "name": "stderr",
     "output_type": "stream",
     "text": [
      "                 Class     Images  Instances      Box(P          R       AP50      AP70): 100%|██████████| 232/232 [00:15<00:00, 14.52it/s]"
     ]
    },
    {
     "name": "stdout",
     "output_type": "stream",
     "text": [
      "\n",
      "--- Check all difficulty categories ---\n",
      "                   all       3699      16907     0.6457      0.569     0.5994     0.5621\n",
      "                   Car       3343      13783       0.86     0.8561     0.8984     0.8862\n",
      "                   Ped        817       2267     0.5019     0.3939     0.3938     0.3522\n",
      "                   Cyc        602        857     0.5754     0.4569     0.5059     0.4479\n",
      "\n",
      "Distribution of difficulty levels across all objects:\n",
      "            Difficulty        All       Easy   Moderate       Hard    Unknown\n",
      "                            16907       4398       5929       3599       2981\n",
      "\n",
      "Objects per class and difficulty level:\n",
      "                 Class       Easy   Moderate       Hard    Unknown\n",
      "                   Car       2973       5063       3105       2642\n",
      "                   Ped       1136        603        439         89\n",
      "                   Cyc        289        263         55        250\n",
      "after custom table\n",
      "Speed: 0.1ms preprocess, 1.8ms inference, 0.0ms loss, 1.0ms postprocess per image\n",
      "end custom validation\n"
     ]
    },
    {
     "name": "stderr",
     "output_type": "stream",
     "text": [
      "\n"
     ]
    }
   ],
   "source": [
    "from ultralytics import YOLO\n",
    "import torch\n",
    "\n",
    "# Check for GPU use\n",
    "print('Use GPU:', torch.cuda.is_available())\n",
    "\n",
    "if torch.cuda.is_available():\n",
    "    torch.cuda.empty_cache()\n",
    "    print(\"GPU cache cleared.\\n\")\n",
    "\n",
    "# Training results: mAP50=89.2%, mAP70=87.9%\n",
    "# Validation results: mAP50=89.6%, mAP70=88.5%\n",
    "\n",
    "# val PyTorch model FP32\n",
    "#model = YOLO('/home/heizung1/ultralytics_yolov8-obb_ob_kitti/ultralytics/kitti_bev_yolo/avoid_overfitting_best/weights/best.pt', task='obb', verbose=False) \n",
    "# val TensorRT FP32 dynamic\n",
    "model = YOLO('/home/heizung1/ultralytics_yolov8-obb_ob_kitti/ultralytics/kitti_bev_yolo/avoid_overfitting_best/weights/fp32_batch=16/best.engine', task='obb', verbose=False) \n",
    "# val TensorRT FP16 dynamic\n",
    "#model = YOLO('/home/heizung1/ultralytics_yolov8-obb_ob_kitti/ultralytics/kitti_bev_yolo/avoid_overfitting_best/weights/fp16_batch=16/best.engine', task='obb', verbose=False)  \n",
    "# val TensorRT INT8 dynamic\n",
    "#model = YOLO('/home/heizung1/ultralytics_yolov8-obb_ob_kitti/ultralytics/kitti_bev_yolo/avoid_overfitting_best/weights/int8_batch=16/best.engine', task='obb', verbose=False)\n",
    "\n",
    "# Testing different models here\n",
    "#model =  YOLO('/home/heizung1/ultralytics_yolov8-obb_ob_kitti/ultralytics/kitti_bev_yolo/run10_Adam_89.2_87.9/weights/best.engine', task='obb', verbose=False)\n",
    "\n",
    "# Validate the model\n",
    "metrics = model.val_kitti(data='/home/heizung1/ultralytics_yolov8-obb_ob_kitti/ultralytics/cfg/datasets/kitti_bev.yaml', imgsz=640, \n",
    "                    batch=16, save_json=False, conf=0.001, iou=0.5, max_det=20, half=False,\n",
    "                    device='0', dnn=False, plots=False, rect=False, split='val', project=None, name=None,\n",
    "                    verbose=True, save_txt=False, save_conf=False, save_crop=False, workers=8, augment=False,\n",
    "                    agnostic_nms=False, single_cls=False) # rect=True increases mAP for Ped and Cyc\n",
    "\n",
    "# Reproduce the validation values from post-training validation with official validation mode\n",
    "#print('\\nultralytics all classes mAP50: %.2f' % (metrics.box.map50 * 100)) # mAP50\n",
    "#print('ultralytics all classes mAP70: %.2f' % (metrics.box.map70 * 100)) # mAP70\n",
    "#print('ultralytics all classes mAP50-95: %.2f' % (metrics.box.map * 100)) # mAP50-95\n",
    "\n",
    "# BEVDetNet metrics (adapted to 40-point interpolation like KITTI)\n",
    "#print('\\n')\n",
    "#print(metrics.box.ap50_kitti(metrics.names)) # AP at IoU threshold of 0.5 for single classes\n",
    "#print('\\n')\n",
    "#print(metrics.box.ap70_kitti(metrics.names)) # AP at IoU threshold of 0.7 for single classes\n",
    "#print('\\n')\n",
    "#print(metrics.box.ap50_all_classes_average) # AP at IoU threshold of 0.5 for all classes\n",
    "#print(metrics.box.ap70_all_classes_average) # AP at IoU threshold of 0.7 for all classes\n"
   ]
  },
  {
   "cell_type": "markdown",
   "metadata": {},
   "source": [
    "## Get desired result.csv value"
   ]
  },
  {
   "cell_type": "code",
   "execution_count": null,
   "metadata": {},
   "outputs": [],
   "source": [
    "import pandas as pd\n",
    "import os\n",
    "\n",
    "\n",
    "input_file = '/home/heizung1/ultralytics_yolov8-obb_ob_kitti/ultralytics/kitti_bev_yolo/avoid_overfitting/results.csv'\n",
    "\n",
    "output_prefix = '_custom'\n",
    "output_dir = os.path.dirname(input_file)  # Verzeichnis der Eingabedatei\n",
    "output_filename = os.path.basename(input_file)  # Dateiname der Eingabedatei\n",
    "output_file = os.path.join(output_dir, f\"{os.path.splitext(output_filename)[0]}{output_prefix}.csv\")\n",
    "\n",
    "df = pd.read_csv(input_file)\n",
    "\n",
    "selected_columns = [\n",
    "    \"epoch\",\n",
    "    \"train/box_loss\",\n",
    "    \"train/cls_loss\",\n",
    "    \"train/dfl_loss\",\n",
    "    'val/box_loss',\n",
    "    'val/cls_loss',\n",
    "    'val/dfl_loss'\n",
    "]\n",
    "\n",
    "filtered_df = df[selected_columns]\n",
    "\n",
    "filtered_df.to_csv(output_file, index=False)\n"
   ]
  }
 ],
 "metadata": {
  "kernelspec": {
   "display_name": "ultralytics",
   "language": "python",
   "name": "python3"
  },
  "language_info": {
   "codemirror_mode": {
    "name": "ipython",
    "version": 3
   },
   "file_extension": ".py",
   "mimetype": "text/x-python",
   "name": "python",
   "nbconvert_exporter": "python",
   "pygments_lexer": "ipython3",
   "version": "3.12.8"
  }
 },
 "nbformat": 4,
 "nbformat_minor": 2
}
